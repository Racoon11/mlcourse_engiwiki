{
 "cells": [
  {
   "cell_type": "code",
   "execution_count": 127,
   "metadata": {},
   "outputs": [],
   "source": [
    "import pandas as pd\n",
    "from sklearn.tree import DecisionTreeRegressor # дерево решений для задачи регрессии\n",
    "from sklearn.metrics import mean_absolute_error # средняя абсолютная ошибка, по которой мы оценим качество модели\n",
    "from sklearn.model_selection import train_test_split # разделение на обучающую и тестовую выборки\n",
    "\n",
    "import warnings \n",
    "warnings.simplefilter('ignore') # игнорировать предупреждения"
   ]
  },
  {
   "cell_type": "markdown",
   "metadata": {},
   "source": [
    "Загрузим данные:"
   ]
  },
  {
   "cell_type": "code",
   "execution_count": 128,
   "metadata": {},
   "outputs": [],
   "source": [
    "df = pd.read_csv('../data/nyc_airbnb.csv')"
   ]
  },
  {
   "cell_type": "code",
   "execution_count": 129,
   "metadata": {},
   "outputs": [
    {
     "name": "stdout",
     "output_type": "stream",
     "text": [
      "<class 'pandas.core.frame.DataFrame'>\n",
      "RangeIndex: 48895 entries, 0 to 48894\n",
      "Data columns (total 10 columns):\n",
      "id                   48895 non-null int64\n",
      "name                 48879 non-null object\n",
      "host_id              48895 non-null int64\n",
      "host_name            48874 non-null object\n",
      "neighbourhood        48895 non-null object\n",
      "room_type            48895 non-null object\n",
      "price                48895 non-null int64\n",
      "minimum_nights       48895 non-null int64\n",
      "number_of_reviews    48895 non-null int64\n",
      "reviews_per_month    38843 non-null float64\n",
      "dtypes: float64(1), int64(5), object(4)\n",
      "memory usage: 3.7+ MB\n"
     ]
    }
   ],
   "source": [
    "df.info()"
   ]
  },
  {
   "cell_type": "markdown",
   "metadata": {},
   "source": [
    "1. Удалите из таблицы колонку `name` с названием объявления, ибо мы не знаем, как работать с текстовыми данными. Также удалите колонки `host_name` и `id` так как в них слишком много уникальных значений."
   ]
  },
  {
   "cell_type": "code",
   "execution_count": 130,
   "metadata": {},
   "outputs": [],
   "source": [
    "# Ваш код здесь"
   ]
  },
  {
   "cell_type": "markdown",
   "metadata": {},
   "source": [
    "2. Пропуски есть в колонке `reviews_per_month`. Заполните их:"
   ]
  },
  {
   "cell_type": "code",
   "execution_count": 131,
   "metadata": {},
   "outputs": [],
   "source": [
    "# Ваш код здесь"
   ]
  },
  {
   "cell_type": "markdown",
   "metadata": {},
   "source": [
    "3. Закодируйте категориальные признаки с помощью численного кодирования или dummy-переменных.\n",
    "\n",
    "Колонки с категориальными признаками: `neighbourhood`, `room_type`."
   ]
  },
  {
   "cell_type": "code",
   "execution_count": 132,
   "metadata": {},
   "outputs": [],
   "source": [
    "# Ваш код здесь"
   ]
  },
  {
   "cell_type": "markdown",
   "metadata": {},
   "source": [
    "4. Разделим таблицу на признаки и целевой признак, затем разобьем данные на обучающую и тестовую выборки:"
   ]
  },
  {
   "cell_type": "code",
   "execution_count": 133,
   "metadata": {},
   "outputs": [],
   "source": [
    "X = df.drop('price', axis=1)\n",
    "y = df['price']"
   ]
  },
  {
   "cell_type": "code",
   "execution_count": 134,
   "metadata": {},
   "outputs": [],
   "source": [
    "X_train, X_test, y_train, y_test = train_test_split(X, y, test_size=0.3)"
   ]
  },
  {
   "cell_type": "markdown",
   "metadata": {},
   "source": [
    "5. Давайте перед применением машинного обучения посмотрим на качество \"тупого\" предсказания на обучающей и на тестовой выборках - просто медианным значением."
   ]
  },
  {
   "cell_type": "code",
   "execution_count": 145,
   "metadata": {},
   "outputs": [],
   "source": [
    "train_mean_price = y_train.median() # посчитаем среднюю цену в обучающей выборке\n",
    "X_train['mean_price'] = train_mean_price # добавим ее в виде колонки\n",
    "print(\n",
    "    mean_absolute_error(y_train,\n",
    "                        X_train['mean_price'])\n",
    ") # посчитаем качество предсказания\n",
    "X_train = X_train.drop('mean_price', axis=1) # выкинем эту колонку за ненадобностью"
   ]
  },
  {
   "cell_type": "markdown",
   "metadata": {},
   "source": [
    "При средней цене аренды в 152 доллара ошибка плюс-минус на 90 долларов это очень много. Что для тестовой выборки?"
   ]
  },
  {
   "cell_type": "code",
   "execution_count": 144,
   "metadata": {},
   "outputs": [],
   "source": [
    "test_mean_price = y_test.median() # посчитаем среднюю цену в обучающей выборке\n",
    "X_test['mean_price'] = test_mean_price # добавим ее в виде колонки\n",
    "print(\n",
    "mean_absolute_error(y_test,\n",
    "                    X_test['mean_price']\n",
    ") # посчитаем качество предсказания\n",
    "X_test = X_test.drop('mean_price', axis=1) # выкинем эту колонку за ненадобностью"
   ]
  },
  {
   "cell_type": "markdown",
   "metadata": {},
   "source": [
    "Ситуация примерно такая же, ошибка на тестовой выборке практически совпадает с ошибкой на тестовой. \n",
    "\n",
    "Теперь, у нас есть глупый baseline, с которым мы можем сравнивать \"умные\" модели машинного обучения."
   ]
  },
  {
   "cell_type": "markdown",
   "metadata": {},
   "source": [
    "4. Обучим дерево решений на обучающей выборке:"
   ]
  },
  {
   "cell_type": "code",
   "execution_count": 140,
   "metadata": {},
   "outputs": [],
   "source": [
    "tree = DecisionTreeRegressor(max_depth=100, # глубина дерева, чем она меньше, тем сложнее дереву переобучиться\n",
    "                            max_leaf_nodes=20 # количество листов у дерева, чем оно больше, тем легче дереву переобучиться, по умолчанию не ограничено\n",
    "                            ) \n",
    "\n",
    "tree.fit(X_train, y_train) # запустим процесс обучения дерева"
   ]
  },
  {
   "cell_type": "markdown",
   "metadata": {},
   "source": [
    "Посмотрим MAE на обучающей выборке:"
   ]
  },
  {
   "cell_type": "code",
   "execution_count": 141,
   "metadata": {},
   "outputs": [],
   "source": [
    "y_train_prediction = tree.predict(X_train)\n",
    "mean_absolute_error(y_train, y_train_prediction)"
   ]
  },
  {
   "cell_type": "markdown",
   "metadata": {},
   "source": [
    "Посмотрим MAE на тестовой выборке:"
   ]
  },
  {
   "cell_type": "code",
   "execution_count": 142,
   "metadata": {},
   "outputs": [],
   "source": [
    "y_test_prediction = tree.predict(X_test)\n",
    "mean_absolute_error(y_test, y_test_prediction)"
   ]
  }
 ],
 "metadata": {
  "kernelspec": {
   "display_name": "Python 3",
   "language": "python",
   "name": "python3"
  },
  "language_info": {
   "codemirror_mode": {
    "name": "ipython",
    "version": 3
   },
   "file_extension": ".py",
   "mimetype": "text/x-python",
   "name": "python",
   "nbconvert_exporter": "python",
   "pygments_lexer": "ipython3",
   "version": "3.7.4"
  }
 },
 "nbformat": 4,
 "nbformat_minor": 4
}
